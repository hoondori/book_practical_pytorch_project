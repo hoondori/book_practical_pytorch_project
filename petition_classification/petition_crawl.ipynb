{
 "cells": [
  {
   "cell_type": "markdown",
   "id": "5c2e81cd",
   "metadata": {},
   "source": [
    "# 국민청원 크롤링"
   ]
  },
  {
   "cell_type": "code",
   "execution_count": 4,
   "id": "95968a5f",
   "metadata": {},
   "outputs": [
    {
     "name": "stdout",
     "output_type": "stream",
     "text": [
      "https://www1.president.go.kr/petitions/594316\n",
      "https://www1.president.go.kr/petitions/594317\n",
      "https://www1.president.go.kr/petitions/594318\n",
      "https://www1.president.go.kr/petitions/594319\n",
      "https://www1.president.go.kr/petitions/594320\n"
     ]
    }
   ],
   "source": [
    "petition_root_url = 'https://www1.president.go.kr/petitions'\n",
    "for i in range(594316, 594321):\n",
    "    URL = f'{petition_root_url}/{i}'\n",
    "    print(URL)"
   ]
  },
  {
   "cell_type": "code",
   "execution_count": null,
   "id": "ffd80e0d",
   "metadata": {},
   "outputs": [],
   "source": [
    "import requests\n",
    "URL = 'https://www1.president.go.kr/petitions/594316'\n",
    "header = {'User-agent' : 'Mozila/2.0'}\n",
    "response = requests.get(URL, headers=header)\n",
    "html = response.text\n",
    "html[3000:50000]"
   ]
  },
  {
   "cell_type": "code",
   "execution_count": null,
   "id": "fa3524f9",
   "metadata": {},
   "outputs": [],
   "source": [
    "import pandas as pd\n",
    "import numpy as np\n",
    "import requests\n",
    "from bs4 import BeautifulSoup\n",
    "import time\n",
    "\n",
    "petition_root_url = 'https://www1.president.go.kr/petitions'\n",
    "result = pd.DataFrame()\n",
    "start = 594466\n",
    "end = start + (60*100)\n",
    "for i in range(start, end): \n",
    "    URL = f'{petition_root_url}/{i}'  \n",
    "    header = {'User-agent' : 'Mozila/2.0'}\n",
    "    response = requests.get(URL, headers=header)\n",
    "    html = response.text\n",
    "    soup = BeautifulSoup(html, 'html.parser')\n",
    "    title = soup.find('h3', class_='petitionsView_title')   # 국민청원 제목\n",
    "    count = soup.find('span', class_='counter') # 청원 참여자수\n",
    "    \n",
    "    for content in soup.select('div.petitionsView_write > div.View_write'):   #본문\n",
    "        content\n",
    "        \n",
    "    a = []\n",
    "    for tag in soup.select('ul.petitionsView_info_list > li'):    # 메타정보 - 카테고리, 청원시작/끝날짜\n",
    "        a.append(tag.contents[1])\n",
    "\n",
    "    if len(a) != 0:\n",
    "        df1 = pd.DataFrame({'start': [a[1]],\n",
    "                         'end': [a[2]],\n",
    "                         'category': [a[0]],\n",
    "                         'count': [count.text],\n",
    "                         'title': [title.text],\n",
    "                         'content': [content.text.strip()[0: 13000]]\n",
    "                        })\n",
    "        result = pd.concat([result, df1])   # 청원별로 계속 concat\n",
    "        result.index = np.arange(len(result))  # index 재부여        \n",
    "    else:\n",
    "        print(f'no a tag: {i}')\n",
    "    \n",
    "    if i !=0 and i % 60 == 0:                                                      \n",
    "        print(\"Sleep 90 seconds. Count:\" + str(i)           \n",
    "              +\",  Local Time:\"+ time.strftime('%Y-%m-%d', time.localtime(time.time()))\n",
    "              +\" \"+ time.strftime('%X', time.localtime(time.time()))\n",
    "              +\",  Data Length:\"+ str(len(result)))        \n",
    "        time.sleep(90) \n",
    "        \n",
    "    if len(result) > 500:\n",
    "        result.to_csv(f'./crawl/crawling_{i}.csv', index = False, encoding = 'utf-8-sig')        \n",
    "\n",
    "        result = pd.DataFrame() # 리셋              \n",
    "    "
   ]
  }
 ],
 "metadata": {
  "kernelspec": {
   "display_name": "Python (ai2)",
   "language": "python",
   "name": "ai"
  },
  "language_info": {
   "codemirror_mode": {
    "name": "ipython",
    "version": 3
   },
   "file_extension": ".py",
   "mimetype": "text/x-python",
   "name": "python",
   "nbconvert_exporter": "python",
   "pygments_lexer": "ipython3",
   "version": "3.6.12"
  },
  "toc": {
   "base_numbering": 1,
   "nav_menu": {},
   "number_sections": true,
   "sideBar": true,
   "skip_h1_title": false,
   "title_cell": "Table of Contents",
   "title_sidebar": "Contents",
   "toc_cell": false,
   "toc_position": {},
   "toc_section_display": true,
   "toc_window_display": false
  }
 },
 "nbformat": 4,
 "nbformat_minor": 5
}
